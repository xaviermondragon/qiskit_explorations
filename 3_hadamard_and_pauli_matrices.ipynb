{
 "cells": [
  {
   "cell_type": "markdown",
   "id": "e3d7f4f0-e373-4aed-83fb-defc67b00aa2",
   "metadata": {},
   "source": [
    "# Hadamard and Pauli Matrices\n",
    "The Hadamard matrix is used to create an equal weighted superposition of the states of the computational basis. It serves also as a building block for some important quantum algorithms, like the Deutsch-Josza Algorithm and the Quantum Fourier Transformation. The definition of the Hadamard matrix is as follows:  \n",
    "\n",
    "$\n",
    "H := \\dfrac{1}{\\sqrt{2}}\n",
    "\\begin{bmatrix}\n",
    "    1 &  1 \\\\\n",
    "    1 & -1 \\\\\n",
    "\\end{bmatrix}\n",
    "$\n",
    "\n",
    "Is easy to verify the following by direct calculations:  \n",
    "- $H\\ket{0} = \\dfrac{1}{\\sqrt{2}}(\\ket{0} + \\ket{1}) = \\ket{+}$\n",
    "- $H\\ket{1} = \\dfrac{1}{\\sqrt{2}}(\\ket{0} - \\ket{1}) = \\ket{-}$"
   ]
  },
  {
   "cell_type": "markdown",
   "id": "d74acd1a-0070-4e3c-aab7-7a3c06f3809c",
   "metadata": {},
   "source": [
    "The Pauli Matrices, together with the identity matrix $I$ form an orthonormal basis for the four-dimensional vector space of $2\\times2$ self-adjoint matrices over $\\mathbb{C}$ and they also play an important role in Measurement of quantum systems. The Pauli matrices are defined as follows:\n",
    "\n",
    "- Pauli X-Matrix:  \n",
    "$\n",
    "\\sigma_x :=\n",
    "\\begin{bmatrix}\n",
    "    0 &  1 \\\\\n",
    "    1 &  0 \\\\\n",
    "\\end{bmatrix}\n",
    "$\n",
    "\n",
    "- Pauli Y-Matrix:  \n",
    "$\n",
    "\\sigma_y :=\n",
    "\\begin{bmatrix}\n",
    "    0 &  -i \\\\\n",
    "    i &   0 \\\\\n",
    "\\end{bmatrix}\n",
    "$\n",
    "\n",
    "- Pauli Z-Matrix:  \n",
    "$\n",
    "\\sigma_z :=\n",
    "\\begin{bmatrix}\n",
    "    1 &  0 \\\\\n",
    "    0 & -1 \\\\\n",
    "\\end{bmatrix}\n",
    "$\n",
    "\n",
    "The following can be verified by doing simple calculations:  \n",
    "- $\\sigma_x\\ket{0} = \\ket{1}$ and $\\sigma_x\\ket{1} = \\ket{0}$\n",
    "- $\\sigma_y\\ket{0} = i\\ket{1}$ and $\\sigma_y\\ket{1} = -i\\ket{0}$\n",
    "- $\\sigma_z\\ket{0} = \\ket{0}$ and $\\sigma_z\\ket{1} = -\\ket{1}$\n",
    "\n",
    "As we can see, Pauli Matrices can model so-called bit and phase flips. Both are types of errors that can occur in quantum computers, leading to decoherence, and are corrected using quantum error correction codes"
   ]
  },
  {
   "cell_type": "code",
   "execution_count": 3,
   "id": "6aa43663-13fa-466e-adb6-8d60ee6fab0f",
   "metadata": {},
   "outputs": [],
   "source": [
    "from qiskit import QuantumCircuit\n",
    "from qiskit.quantum_info import Statevector"
   ]
  },
  {
   "cell_type": "markdown",
   "id": "1561452a-e912-4611-9379-e192613d691c",
   "metadata": {},
   "source": [
    "## Hadamard Matrix"
   ]
  },
  {
   "cell_type": "markdown",
   "id": "068e9c9e-9b93-4fa1-8745-d51fbc8aef00",
   "metadata": {},
   "source": [
    "Create a quantum circuit with one Qubit. By default, the Qubit is always prepared with the value $\\ket{0}$."
   ]
  },
  {
   "cell_type": "code",
   "execution_count": 6,
   "id": "f43cd1c1-16c9-4755-8f9d-7b61c2ba1744",
   "metadata": {},
   "outputs": [],
   "source": [
    "circ_0 = QuantumCircuit(1)"
   ]
  },
  {
   "cell_type": "markdown",
   "id": "a7f0d2c5-c0ea-441b-af37-f396b966907f",
   "metadata": {},
   "source": [
    "Apply the Hadamard matrix and extract the state vector"
   ]
  },
  {
   "cell_type": "code",
   "execution_count": 8,
   "id": "c679831b-1a35-42d6-a283-0516cc832511",
   "metadata": {},
   "outputs": [
    {
     "name": "stdout",
     "output_type": "stream",
     "text": [
      "   ┌───┐\n",
      "q: ┤ H ├\n",
      "   └───┘\n",
      "Statevector([0.70710678+0.j, 0.70710678+0.j],\n",
      "            dims=(2,))\n"
     ]
    }
   ],
   "source": [
    "circ_0.h(0)\n",
    "print(circ_0)\n",
    "Statevector(circ_0)"
   ]
  },
  {
   "cell_type": "markdown",
   "id": "92fc0b95-bf2e-45c8-9825-131e4430c9bf",
   "metadata": {},
   "source": [
    "## Pauli X-Matrix"
   ]
  },
  {
   "cell_type": "markdown",
   "id": "9c4b1c8d-b8b2-4ca9-bd48-f71b2144f6b0",
   "metadata": {},
   "source": [
    "Create a quantum circuit with one Qubit and apply the Pauli X-Matrix."
   ]
  },
  {
   "cell_type": "code",
   "execution_count": 11,
   "id": "2424850f-22db-4d70-bd11-1c492255d149",
   "metadata": {},
   "outputs": [
    {
     "name": "stdout",
     "output_type": "stream",
     "text": [
      "   ┌───┐\n",
      "q: ┤ X ├\n",
      "   └───┘\n"
     ]
    }
   ],
   "source": [
    "circ_1 = QuantumCircuit(1)\n",
    "circ_1.x(0)\n",
    "print(circ_1)"
   ]
  },
  {
   "cell_type": "markdown",
   "id": "4888ffdc-ae1b-4681-88c7-a1f08f6de8f5",
   "metadata": {},
   "source": [
    "Formulate the state vector to be prepared"
   ]
  },
  {
   "cell_type": "code",
   "execution_count": 13,
   "id": "2beef496-01c7-4edc-a635-dbf703a7dd2a",
   "metadata": {},
   "outputs": [],
   "source": [
    "# The first parameter indicates a number that describes the desired state; in this case |1>.\n",
    "# The seond parameter indicates the dimension of the corresponding Hilbert Space.\n",
    "state_vector_1 = Statevector.from_int(1, 2)"
   ]
  },
  {
   "cell_type": "markdown",
   "id": "b5353209-11c3-4741-815e-a558d383e39f",
   "metadata": {},
   "source": [
    "Set the initial prepared state of the quantum system equal to this desired state vector, initiate the desired manipulations and print the output:"
   ]
  },
  {
   "cell_type": "code",
   "execution_count": 15,
   "id": "9e915fb8-6dc5-4da4-87df-7c86d8b87483",
   "metadata": {},
   "outputs": [
    {
     "name": "stdout",
     "output_type": "stream",
     "text": [
      "Statevector([1.+0.j, 0.+0.j],\n",
      "            dims=(2,))\n"
     ]
    }
   ],
   "source": [
    "state_vector_1 = state_vector_1.evolve(circ_1)\n",
    "print(state_vector_1)"
   ]
  },
  {
   "cell_type": "markdown",
   "id": "d1ca1893-2c6f-48b5-863f-90fd54d17386",
   "metadata": {},
   "source": [
    "## Pauli Y-Matrix"
   ]
  },
  {
   "cell_type": "markdown",
   "id": "5d04efe3-7029-40d1-9974-022129db53ae",
   "metadata": {},
   "source": [
    "Create a quantum circuit with one Qubit and apply the Pauli X-Matrix."
   ]
  },
  {
   "cell_type": "code",
   "execution_count": 18,
   "id": "6342f939-efe7-40d4-8c8e-18dc75337ee8",
   "metadata": {},
   "outputs": [
    {
     "name": "stdout",
     "output_type": "stream",
     "text": [
      "   ┌───┐\n",
      "q: ┤ Y ├\n",
      "   └───┘\n"
     ]
    }
   ],
   "source": [
    "circ_2 = QuantumCircuit(1)\n",
    "circ_2.y(0)\n",
    "print(circ_2)"
   ]
  },
  {
   "cell_type": "markdown",
   "id": "47f67fcc-c3f9-4c8e-93f1-3c67b4793b8c",
   "metadata": {},
   "source": [
    "Formulate the state vector to be prepared"
   ]
  },
  {
   "cell_type": "code",
   "execution_count": 20,
   "id": "8822a43d-5eea-4d09-bbbf-cca938f8a9cf",
   "metadata": {},
   "outputs": [],
   "source": [
    "state_vector_2 = Statevector.from_int(1, 2)"
   ]
  },
  {
   "cell_type": "markdown",
   "id": "e38a18a4-4046-4e49-a5c4-6d870e61ee9e",
   "metadata": {},
   "source": [
    "Set the initial prepared state of the quantum system equal to this desired state vector, initiate the desired manipulations and print the output:"
   ]
  },
  {
   "cell_type": "code",
   "execution_count": 22,
   "id": "80e47bb3-6257-44a2-bc78-c32236d0f76a",
   "metadata": {},
   "outputs": [
    {
     "name": "stdout",
     "output_type": "stream",
     "text": [
      "Statevector([0.-1.j, 0.+0.j],\n",
      "            dims=(2,))\n"
     ]
    }
   ],
   "source": [
    "state_vector_2 = state_vector_2.evolve(circ_2)\n",
    "print(state_vector_2)"
   ]
  },
  {
   "cell_type": "markdown",
   "id": "cd29f531-2040-45ee-9719-8bd237651f4c",
   "metadata": {},
   "source": [
    "## Pauli Z-Matrix"
   ]
  },
  {
   "cell_type": "markdown",
   "id": "391f884a-87a8-4729-9a5d-50be31aa0cfe",
   "metadata": {},
   "source": [
    "Create a quantum circuit with one Qubit preared and apply the Pauli Z-Matrix:"
   ]
  },
  {
   "cell_type": "code",
   "execution_count": 25,
   "id": "a2ad69c9-96d1-4335-b2e7-870c32771dd7",
   "metadata": {},
   "outputs": [
    {
     "name": "stdout",
     "output_type": "stream",
     "text": [
      "   ┌───┐\n",
      "q: ┤ Z ├\n",
      "   └───┘\n"
     ]
    }
   ],
   "source": [
    "circ_3 = QuantumCircuit(1)\n",
    "circ_3.z(0)\n",
    "print(circ_3)"
   ]
  },
  {
   "cell_type": "markdown",
   "id": "cc891386-854f-4b44-bea7-9a73eb7c4268",
   "metadata": {},
   "source": [
    "We have already applied the Hadamard Matrix to $\\ket{0}$, which outputs $\\ket{+}$ and we can use this output to preparate a new state vector (another option would be to to use the instruction StateVector.from_label('+')):"
   ]
  },
  {
   "cell_type": "code",
   "execution_count": 27,
   "id": "5dca34bf-1116-4498-9e9a-f91ccdb1bdb1",
   "metadata": {},
   "outputs": [],
   "source": [
    "state_vector_3 = Statevector.from_instruction(circ_0)"
   ]
  },
  {
   "cell_type": "markdown",
   "id": "b6e416c4-59e2-46df-9391-168e52e5f989",
   "metadata": {},
   "source": [
    "Set the initial prepared state of the quantum system equal to this desired state vector, initiate the desired manipulations and print the output:"
   ]
  },
  {
   "cell_type": "code",
   "execution_count": 29,
   "id": "69aa7826-c2b5-4228-a760-efb5cb081e0e",
   "metadata": {},
   "outputs": [
    {
     "name": "stdout",
     "output_type": "stream",
     "text": [
      "Statevector([ 0.70710678+0.j, -0.70710678+0.j],\n",
      "            dims=(2,))\n"
     ]
    }
   ],
   "source": [
    "state_vector_3 = state_vector_3.evolve(circ_3)\n",
    "print(state_vector_3)"
   ]
  },
  {
   "cell_type": "code",
   "execution_count": null,
   "id": "5a81e08a-cdf0-4cf1-bebc-1085fc438e9d",
   "metadata": {},
   "outputs": [],
   "source": []
  }
 ],
 "metadata": {
  "kernelspec": {
   "display_name": "Python [conda env:base] *",
   "language": "python",
   "name": "conda-base-py"
  },
  "language_info": {
   "codemirror_mode": {
    "name": "ipython",
    "version": 3
   },
   "file_extension": ".py",
   "mimetype": "text/x-python",
   "name": "python",
   "nbconvert_exporter": "python",
   "pygments_lexer": "ipython3",
   "version": "3.12.7"
  }
 },
 "nbformat": 4,
 "nbformat_minor": 5
}
