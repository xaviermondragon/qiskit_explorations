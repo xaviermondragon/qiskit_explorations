{
 "cells": [
  {
   "cell_type": "markdown",
   "id": "afb5f27d-f8a6-4f19-8fb2-99eb5a6497a5",
   "metadata": {},
   "source": [
    "# First explorations with one Qubit"
   ]
  },
  {
   "cell_type": "code",
   "execution_count": 2,
   "id": "e645996d-61cc-44bc-8f2c-cdce74f45f39",
   "metadata": {},
   "outputs": [],
   "source": [
    "from qiskit import QuantumCircuit, transpile\n",
    "from qiskit_aer import Aer\n",
    "from qiskit.quantum_info import Statevector\n",
    "from math import sqrt"
   ]
  },
  {
   "cell_type": "markdown",
   "id": "e68e6c8d-0721-4601-957c-e85b6b9c5596",
   "metadata": {},
   "source": [
    "## Hello Quantum World (Preparing a one Qubit System with an initial state)\n",
    "\n",
    "In Quantum Commputing, the minimal unit of information is the Qubit, which formally is a normalized vector in $\\mathbb{C}^2$.  We make the definitions $\\ket{0} := [1, 0]^T$, $\\ket{1} := [0, 1]^T$. In Quantum Computing, the set $\\{\\ket{0}, \\ket{1} \\}$ is known as the computational basis.  \n",
    "We can represent a Qubit in $\\mathbb{C}^2$ as a linear combination of the vectors in the computational basis, which then has the general form $\\alpha_0\\ket{0} + \\alpha_1\\ket{1}$. It is aslo asked that the state of a Qubit is normed; that is, $\\lvert \\alpha_0\\rvert^2 + \\lvert \\alpha_1\\rvert^2 = 1$.  \n",
    "We first instatiate a quantum circuit with only one qubit:"
   ]
  },
  {
   "cell_type": "code",
   "execution_count": 4,
   "id": "6bec14d0-093e-49ba-908b-1d70ba031f24",
   "metadata": {},
   "outputs": [],
   "source": [
    "circuit = QuantumCircuit(1) # The parameter 1 indicates we are dealing with a one-qubit system"
   ]
  },
  {
   "cell_type": "markdown",
   "id": "02444112-f450-4465-9b04-ed50dbd9f7da",
   "metadata": {},
   "source": [
    "Now, let us prepare the Qubit with the state vectors from the computaional basis of $\\mathbb{C}^2$ ($\\ket{0}$ and $\\ket{1}$) and access the state vector of this Qubit:"
   ]
  },
  {
   "cell_type": "code",
   "execution_count": 6,
   "id": "79c7f4c2-b9db-4f97-b646-f9c2363aa29e",
   "metadata": {},
   "outputs": [
    {
     "name": "stdout",
     "output_type": "stream",
     "text": [
      "Qubit initialized with the state: Statevector([1.+0.j, 0.+0.j],\n",
      "            dims=(2,))\n",
      "Qubit initialized with the state: Statevector([0.+0.j, 1.+0.j],\n",
      "            dims=(2,))\n"
     ]
    }
   ],
   "source": [
    "for base_vector in ['0', '1']:\n",
    "    state_vector = Statevector.from_label(base_vector)\n",
    "    state_vector = state_vector.evolve(circuit)\n",
    "    print(f'Qubit initialized with the state:', state_vector)"
   ]
  },
  {
   "cell_type": "markdown",
   "id": "3cdcefcc-34b1-4d6b-99ad-33d32cb13e1e",
   "metadata": {},
   "source": [
    "In Quantum Computing, the basis $\\{\\ket{+}, \\ket{-} \\}$, where $\\ket{+} := \\dfrac{1}{\\sqrt{2}}(\\ket{0} + \\ket{1})$ and $\\ket{-} := \\dfrac{1}{\\sqrt{2}}(\\ket{0} - \\ket{1})$ is kown as the Hadamard basis of $\\mathbb{C}^2$.  \n",
    "We now initialiaze the Qubit with the state vectors from the Hadamard basis and access the state vector of this Qubit:"
   ]
  },
  {
   "cell_type": "code",
   "execution_count": 8,
   "id": "d84703bb-03b5-441e-ba18-d8e87a8cc38e",
   "metadata": {},
   "outputs": [
    {
     "name": "stdout",
     "output_type": "stream",
     "text": [
      "Qubit initialized with the state: Statevector([0.70710678+0.j, 0.70710678+0.j],\n",
      "            dims=(2,))\n",
      "Qubit initialized with the state: Statevector([ 0.70710678+0.j, -0.70710678+0.j],\n",
      "            dims=(2,))\n"
     ]
    }
   ],
   "source": [
    "for base_vector in ['+', '-']:\n",
    "    state_vector = Statevector.from_label(base_vector)\n",
    "    state_vector = state_vector.evolve(circuit)\n",
    "    print(f'Qubit initialized with the state:', state_vector)"
   ]
  },
  {
   "cell_type": "markdown",
   "id": "69f1dbec-2aa3-47cf-aeed-e6281d841a76",
   "metadata": {},
   "source": [
    "## Measuring a One-Qubit System\n",
    "\n",
    "In the previous examples, we cheated because we accessed the state of the quantum system which we had previously prepared. In practice, after preparing a quantum system, we cannot access the state of the system, but we have to **measure** the system with respect to an **obervable** $A: \\mathcal{H} \\rightarrow \\mathcal{H}$, which is represented mathematically as a self-adjoint linear operator on $\\mathcal{H}$, the Hilbert Space used to represent the states of the quantum system.  \n",
    "The spectral theorem in linear algebra tells us that there is an orthonormal basis of $\\mathcal{H}$ formed by the eigenvectors of $A$. For a one-qubit quantum system, $\\mathcal{H} = \\mathbb{C}^2$ and we can represent any state $\\psi$ of the qubit as \n",
    "$$\\psi = \\alpha_0\\ket{v_0} + \\alpha_1\\ket{v_1},$$\n",
    "where $v_0$, $v_1$ are orthonormal eigenvectors of $A$ and $\\lvert \\alpha_0\\rvert^2 + \\lvert \\alpha_1\\rvert^2 = 1$.  \n",
    "Now, the postulates of Quantum Mechanics tells us that if $\\lambda_0$, $\\lambda_1$ are the eigenvlaues of $A$ corresponding to the eigenvectors $v_0$, $v_1$, then the result of the measurement will be either $\\lambda_0$ or $\\lambda_1$ wih respective probabilities $\\lvert\\alpha_0\\rvert^2$, $\\lvert\\alpha_1\\rvert^2$. If the output of the masure is $\\alpha_i$, that means the system has \"collpased\" to the state $\\ket{v_i}$ as a result of the measurement.  "
   ]
  },
  {
   "cell_type": "markdown",
   "id": "d14ca740-ac88-4cef-bac3-270e6e5c75fb",
   "metadata": {},
   "source": [
    "In order to explore this theory with the help of Qiskit, let us now instantiate a Quantum Circuit with one qubit and a classical bit to store the results of our measurements."
   ]
  },
  {
   "cell_type": "code",
   "execution_count": 11,
   "id": "b546a6fc-d43a-4583-bb0b-a577d017830c",
   "metadata": {},
   "outputs": [],
   "source": [
    "circuit = QuantumCircuit(1, 1)"
   ]
  },
  {
   "cell_type": "markdown",
   "id": "35c913a3-d99f-48e1-a2a9-6f46b335ec88",
   "metadata": {},
   "source": [
    "We now prepare the Qubit with the state $\\ket{0} = [1, 0]^T$. "
   ]
  },
  {
   "cell_type": "code",
   "execution_count": 13,
   "id": "de799d46-b161-409b-8248-ea1cadc413de",
   "metadata": {},
   "outputs": [
    {
     "data": {
      "text/plain": [
       "<qiskit.circuit.instructionset.InstructionSet at 0x1e1356bf370>"
      ]
     },
     "execution_count": 13,
     "metadata": {},
     "output_type": "execute_result"
    }
   ],
   "source": [
    "circuit.initialize([1,0], 0, 1)"
   ]
  },
  {
   "cell_type": "markdown",
   "id": "cf8f4516-4cef-435d-a1a9-b0d7c74e4ea1",
   "metadata": {},
   "source": [
    "- The list given as first parameter indicates the desired coefficients of the state to prepare with respect to the computational basis $\\{\\ket{0}, \\ket{1} \\}$.\n",
    "- The second parameter indicates which Qubit will attain this state (in this example $0$ points to the first and only Qubit in the quantum circuit)\n",
    "- The third parameter indicates if the coordinates given in the first parameter are to be normed ($1=True$, $0=False$), so that the resulting state has norm 1 ."
   ]
  },
  {
   "cell_type": "markdown",
   "id": "02d18ebb-9436-47fe-a12a-5a112db0e70d",
   "metadata": {},
   "source": [
    "We will now simulate the process of measuring this qubit 10000 times and print the results obtained:  "
   ]
  },
  {
   "cell_type": "code",
   "execution_count": 16,
   "id": "170e9824-de32-4612-90bb-c4556f9de800",
   "metadata": {},
   "outputs": [
    {
     "name": "stdout",
     "output_type": "stream",
     "text": [
      "     ┌─────────────────┐┌─┐\n",
      "  q: ┤ Initialize(1,0) ├┤M├\n",
      "     └─────────────────┘└╥┘\n",
      "c: 1/════════════════════╩═\n",
      "                         0 \n",
      "{'0': 10000}\n"
     ]
    }
   ],
   "source": [
    "# Measure the qubit and store the result in the classical bit\n",
    "circuit.measure(0, 0)\n",
    "print(circuit)\n",
    " # For local simulation\n",
    "simulator = Aer.get_backend('qasm_simulator')\n",
    "# Transpile and run the circuit\n",
    "shots = 10000\n",
    "t_qc = transpile(circuit, simulator)\n",
    "job = simulator.run(t_qc, shots=shots)\n",
    "result = job.result()\n",
    "counts = result.get_counts()\n",
    "print(counts)"
   ]
  },
  {
   "cell_type": "markdown",
   "id": "2d3d1795-2065-4e08-865d-0cd16bf579e7",
   "metadata": {},
   "source": [
    "[In Qiskit, measurements are performed in the computational basis](https://quantum.cloud.ibm.com/docs/de/guides/measure-qubits). In other words, measurements are performed with respect to the Pauli Matrix \n",
    "$\n",
    "\\sigma_z :=\n",
    "\\begin{bmatrix}\n",
    "    1 &  0 \\\\\n",
    "    0 & -1 \\\\\n",
    "\\end{bmatrix}\n",
    "$\n",
    "\n",
    "Now, it is easy to verify that $\\sigma_z$ has $\\ket{0}$, $\\ket{1}$ as eigenvectors with corresponding eigenvalues $1$, $-1$. The output of the previous cell tells us that after preparing the a qubit with the state $\\ket{0}$ and measuring it $10,000$ times with respect to $\\sigma_z$ we obtained the eigenvalue corresponding to $\\ket{0}$ all of the times, which is consistent with the postulates of quantum mechanics."
   ]
  },
  {
   "cell_type": "markdown",
   "id": "369b22a0-436b-446b-9497-54efe3da498f",
   "metadata": {},
   "source": [
    "Let's repeat the previous experiment preparing the qubit with the state $\\ket{1}$. Of course this time we expect to measure the eigenvalue corresponding to $\\ket{1}$ every time. "
   ]
  },
  {
   "cell_type": "code",
   "execution_count": 19,
   "id": "101af21a-5d0d-4060-acd7-e2223f295604",
   "metadata": {},
   "outputs": [
    {
     "name": "stdout",
     "output_type": "stream",
     "text": [
      "     ┌─────────────────┐┌─┐\n",
      "  q: ┤ Initialize(0,1) ├┤M├\n",
      "     └─────────────────┘└╥┘\n",
      "c: 1/════════════════════╩═\n",
      "                         0 \n",
      "{'1': 10000}\n"
     ]
    }
   ],
   "source": [
    "circuit = QuantumCircuit(1, 1)\n",
    "circuit.initialize([0, 1], 0, 1)\n",
    "# Measure the qubit and store the result in the classical bit\n",
    "circuit.measure(0, 0)\n",
    "print(circuit)\n",
    " # For local simulation\n",
    "simulator = Aer.get_backend('qasm_simulator')\n",
    "# Transpile and run the circuit\n",
    "shots = 10000\n",
    "t_qc = transpile(circuit, simulator)\n",
    "job = simulator.run(t_qc, shots=shots)\n",
    "result = job.result()\n",
    "counts = result.get_counts()\n",
    "print(counts)"
   ]
  },
  {
   "cell_type": "markdown",
   "id": "8cfa8322-cfbb-431e-8f31-a8cf44ae0220",
   "metadata": {},
   "source": [
    "What happens if we repeat the process, this time preparing the Qubit with the sate $\\ket{+} = \\dfrac{1}{\\sqrt{2}}(\\ket{0} + \\ket{1})$ (which is a superposition of the state vectors from the computational basis)? This time the theory tells us that we should measure each of the eigenvalues corresponding to $\\ket{0}$, $\\ket{1}$ more or less half of the time."
   ]
  },
  {
   "cell_type": "code",
   "execution_count": 21,
   "id": "f1002c16-1d67-4a25-9d25-deb58d9222ad",
   "metadata": {},
   "outputs": [
    {
     "name": "stdout",
     "output_type": "stream",
     "text": [
      "     ┌─────────────────────────────┐┌─┐\n",
      "  q: ┤ Initialize(0.70711,0.70711) ├┤M├\n",
      "     └─────────────────────────────┘└╥┘\n",
      "c: 1/════════════════════════════════╩═\n",
      "                                     0 \n",
      "{'0': 4983, '1': 5017}\n"
     ]
    }
   ],
   "source": [
    "circuit = QuantumCircuit(1, 1)\n",
    "circuit.initialize([1/sqrt(2), 1/sqrt(2)], 0, 1)\n",
    "# Measure the qubit and store the result in the classical bit\n",
    "circuit.measure(0, 0)\n",
    "print(circuit)\n",
    " # For local simulation\n",
    "simulator = Aer.get_backend('qasm_simulator')\n",
    "# Transpile and run the circuit\n",
    "shots = 10000\n",
    "t_qc = transpile(circuit, simulator)\n",
    "job = simulator.run(t_qc, shots=shots)\n",
    "result = job.result()\n",
    "counts = result.get_counts()\n",
    "print(counts)"
   ]
  },
  {
   "cell_type": "code",
   "execution_count": null,
   "id": "04b6e7e0-dd0c-4ac4-ba9f-8d75e400701d",
   "metadata": {},
   "outputs": [],
   "source": []
  }
 ],
 "metadata": {
  "kernelspec": {
   "display_name": "Python [conda env:base] *",
   "language": "python",
   "name": "conda-base-py"
  },
  "language_info": {
   "codemirror_mode": {
    "name": "ipython",
    "version": 3
   },
   "file_extension": ".py",
   "mimetype": "text/x-python",
   "name": "python",
   "nbconvert_exporter": "python",
   "pygments_lexer": "ipython3",
   "version": "3.12.7"
  }
 },
 "nbformat": 4,
 "nbformat_minor": 5
}
