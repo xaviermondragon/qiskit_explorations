{
 "cells": [
  {
   "cell_type": "markdown",
   "id": "e3d7f4f0-e373-4aed-83fb-defc67b00aa2",
   "metadata": {},
   "source": [
    "# Hadamard and Pauli Matrices\n",
    "The Hadamard matrix is used to create an equal weighted superposition of the states of the computational basis. It serves also as building block for some important quantum algorithms, like the Deutsch-Josza Algorithm and the Quantum Fourier Transformation.\n",
    "\n",
    "The Pauli Matrices, together with the identity matrix form a basis for the vector space of 2*2 self-adjoint matrices over C and they also play an important role in Measurement of quantum systems."
   ]
  },
  {
   "cell_type": "code",
   "execution_count": 2,
   "id": "6aa43663-13fa-466e-adb6-8d60ee6fab0f",
   "metadata": {},
   "outputs": [],
   "source": [
    "from qiskit import QuantumCircuit\n",
    "from qiskit.quantum_info import Statevector"
   ]
  },
  {
   "cell_type": "markdown",
   "id": "1561452a-e912-4611-9379-e192613d691c",
   "metadata": {},
   "source": [
    "## Hadamard Matrix"
   ]
  },
  {
   "cell_type": "markdown",
   "id": "068e9c9e-9b93-4fa1-8745-d51fbc8aef00",
   "metadata": {},
   "source": [
    "Create a quantum circuit with one Qubit. By default, the Qubit is always prepared with the value |0>."
   ]
  },
  {
   "cell_type": "code",
   "execution_count": 5,
   "id": "f43cd1c1-16c9-4755-8f9d-7b61c2ba1744",
   "metadata": {},
   "outputs": [],
   "source": [
    "circ_0 = QuantumCircuit(1)"
   ]
  },
  {
   "cell_type": "markdown",
   "id": "a7f0d2c5-c0ea-441b-af37-f396b966907f",
   "metadata": {},
   "source": [
    "Apply the Hadamard matrix and extract the state vector"
   ]
  },
  {
   "cell_type": "code",
   "execution_count": 7,
   "id": "c679831b-1a35-42d6-a283-0516cc832511",
   "metadata": {},
   "outputs": [
    {
     "name": "stdout",
     "output_type": "stream",
     "text": [
      "   ┌───┐\n",
      "q: ┤ H ├\n",
      "   └───┘\n",
      "Statevector([0.70710678+0.j, 0.70710678+0.j],\n",
      "            dims=(2,))\n"
     ]
    }
   ],
   "source": [
    "circ_0.h(0)\n",
    "print(circ_0)\n",
    "Statevector(circ_0)"
   ]
  },
  {
   "cell_type": "markdown",
   "id": "92fc0b95-bf2e-45c8-9825-131e4430c9bf",
   "metadata": {},
   "source": [
    "## Pauli X-Matrix"
   ]
  },
  {
   "cell_type": "markdown",
   "id": "9c4b1c8d-b8b2-4ca9-bd48-f71b2144f6b0",
   "metadata": {},
   "source": [
    "Create a quantum circuit with one Qubit and apply the Pauli X-Matrix."
   ]
  },
  {
   "cell_type": "code",
   "execution_count": 10,
   "id": "2424850f-22db-4d70-bd11-1c492255d149",
   "metadata": {},
   "outputs": [
    {
     "name": "stdout",
     "output_type": "stream",
     "text": [
      "   ┌───┐\n",
      "q: ┤ X ├\n",
      "   └───┘\n"
     ]
    }
   ],
   "source": [
    "circ_1 = QuantumCircuit(1)\n",
    "circ_1.x(0)\n",
    "print(circ_1)"
   ]
  },
  {
   "cell_type": "markdown",
   "id": "4888ffdc-ae1b-4681-88c7-a1f08f6de8f5",
   "metadata": {},
   "source": [
    "Formulate the state vector to be prepared"
   ]
  },
  {
   "cell_type": "code",
   "execution_count": 12,
   "id": "2beef496-01c7-4edc-a635-dbf703a7dd2a",
   "metadata": {},
   "outputs": [],
   "source": [
    "# The first parameter indicates a number that describes the desired state; in this case |1>.\n",
    "# The seond parameter indicates the dimension of the corresponding Hilbert Space.\n",
    "state_vector_1 = Statevector.from_int(1, 2)"
   ]
  },
  {
   "cell_type": "markdown",
   "id": "b5353209-11c3-4741-815e-a558d383e39f",
   "metadata": {},
   "source": [
    "Set the initial prepared state of the quantum system equal to this desired state vector, initiate the desired manipulations and print the output:"
   ]
  },
  {
   "cell_type": "code",
   "execution_count": 14,
   "id": "9e915fb8-6dc5-4da4-87df-7c86d8b87483",
   "metadata": {},
   "outputs": [
    {
     "name": "stdout",
     "output_type": "stream",
     "text": [
      "Statevector([1.+0.j, 0.+0.j],\n",
      "            dims=(2,))\n"
     ]
    }
   ],
   "source": [
    "state_vector_1 = state_vector_1.evolve(circ_1)\n",
    "print(state_vector_1)"
   ]
  },
  {
   "cell_type": "markdown",
   "id": "cd29f531-2040-45ee-9719-8bd237651f4c",
   "metadata": {},
   "source": [
    "## Pauli Z-Matrix"
   ]
  },
  {
   "cell_type": "markdown",
   "id": "391f884a-87a8-4729-9a5d-50be31aa0cfe",
   "metadata": {},
   "source": [
    "Create a quantum circuit with one Qubit preared and apply the Pauli Z-Matrix:"
   ]
  },
  {
   "cell_type": "code",
   "execution_count": 17,
   "id": "a2ad69c9-96d1-4335-b2e7-870c32771dd7",
   "metadata": {},
   "outputs": [
    {
     "name": "stdout",
     "output_type": "stream",
     "text": [
      "   ┌───┐\n",
      "q: ┤ Z ├\n",
      "   └───┘\n"
     ]
    }
   ],
   "source": [
    "circ_2 = QuantumCircuit(1)\n",
    "circ_2.z(0)\n",
    "print(circ_2)"
   ]
  },
  {
   "cell_type": "markdown",
   "id": "cc891386-854f-4b44-bea7-9a73eb7c4268",
   "metadata": {},
   "source": [
    "We have already applied the Hadamard Matrix to |0>, which outputs |+> and we can use this output to preparate a new state vector (another option would be to to use the instruction StateVector.from_label('+')):"
   ]
  },
  {
   "cell_type": "code",
   "execution_count": 19,
   "id": "5dca34bf-1116-4498-9e9a-f91ccdb1bdb1",
   "metadata": {},
   "outputs": [],
   "source": [
    "state_vector_2 = Statevector.from_instruction(circ_0)"
   ]
  },
  {
   "cell_type": "markdown",
   "id": "b6e416c4-59e2-46df-9391-168e52e5f989",
   "metadata": {},
   "source": [
    "Set the initial prepared state of the quantum system equal to this desired state vector, initiate the desired manipulations and print the output:"
   ]
  },
  {
   "cell_type": "code",
   "execution_count": 21,
   "id": "69aa7826-c2b5-4228-a760-efb5cb081e0e",
   "metadata": {},
   "outputs": [
    {
     "name": "stdout",
     "output_type": "stream",
     "text": [
      "Statevector([ 0.70710678+0.j, -0.70710678+0.j],\n",
      "            dims=(2,))\n"
     ]
    }
   ],
   "source": [
    "state_vector_2 = state_vector_2.evolve(circ_2)\n",
    "print(state_vector_2)"
   ]
  },
  {
   "cell_type": "code",
   "execution_count": null,
   "id": "5a81e08a-cdf0-4cf1-bebc-1085fc438e9d",
   "metadata": {},
   "outputs": [],
   "source": []
  }
 ],
 "metadata": {
  "kernelspec": {
   "display_name": "Python [conda env:base] *",
   "language": "python",
   "name": "conda-base-py"
  },
  "language_info": {
   "codemirror_mode": {
    "name": "ipython",
    "version": 3
   },
   "file_extension": ".py",
   "mimetype": "text/x-python",
   "name": "python",
   "nbconvert_exporter": "python",
   "pygments_lexer": "ipython3",
   "version": "3.12.7"
  }
 },
 "nbformat": 4,
 "nbformat_minor": 5
}
