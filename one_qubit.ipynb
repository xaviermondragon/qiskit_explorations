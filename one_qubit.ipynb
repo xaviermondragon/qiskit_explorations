{
 "cells": [
  {
   "cell_type": "markdown",
   "id": "afb5f27d-f8a6-4f19-8fb2-99eb5a6497a5",
   "metadata": {},
   "source": [
    "# First explorations with one Qubit"
   ]
  },
  {
   "cell_type": "code",
   "execution_count": 33,
   "id": "e645996d-61cc-44bc-8f2c-cdce74f45f39",
   "metadata": {},
   "outputs": [],
   "source": [
    "from qiskit import QuantumCircuit, transpile\n",
    "from qiskit.quantum_info import Statevector\n",
    "from qiskit_aer import Aer"
   ]
  },
  {
   "cell_type": "markdown",
   "id": "02444112-f450-4465-9b04-ed50dbd9f7da",
   "metadata": {},
   "source": [
    "Prepare a one-Qubit quantum state with ket 0 and ket 1"
   ]
  },
  {
   "cell_type": "code",
   "execution_count": 9,
   "id": "79c7f4c2-b9db-4f97-b646-f9c2363aa29e",
   "metadata": {},
   "outputs": [
    {
     "name": "stdout",
     "output_type": "stream",
     "text": [
      "Statevector([1.+0.j, 0.+0.j],\n",
      "            dims=(2,))\n"
     ]
    }
   ],
   "source": [
    "circuit = QuantumCircuit(1)\n",
    "state_vector = Statevector.from_label('0')\n",
    "state_vector = state_vector.evolve(circuit)\n",
    "print(state_vector)"
   ]
  },
  {
   "cell_type": "code",
   "execution_count": 11,
   "id": "3e474de3-503a-4630-ba1b-42d1860ebe1b",
   "metadata": {},
   "outputs": [
    {
     "name": "stdout",
     "output_type": "stream",
     "text": [
      "Statevector([0.+0.j, 1.+0.j],\n",
      "            dims=(2,))\n"
     ]
    }
   ],
   "source": [
    "state_vector = Statevector.from_label('1')\n",
    "state_vector = state_vector.evolve(circuit)\n",
    "print(state_vector)"
   ]
  },
  {
   "cell_type": "markdown",
   "id": "84a9d34d-c1f9-4252-a62a-c1a9b18a0cae",
   "metadata": {},
   "source": [
    "Now with ket + and ket -"
   ]
  },
  {
   "cell_type": "code",
   "execution_count": 13,
   "id": "08865739-f18e-4cec-a16c-eee08e7167f0",
   "metadata": {},
   "outputs": [
    {
     "name": "stdout",
     "output_type": "stream",
     "text": [
      "Statevector([0.70710678+0.j, 0.70710678+0.j],\n",
      "            dims=(2,))\n"
     ]
    }
   ],
   "source": [
    "state_vector = Statevector.from_label('+')\n",
    "state_vector = state_vector.evolve(circuit)\n",
    "print(state_vector)"
   ]
  },
  {
   "cell_type": "code",
   "execution_count": 17,
   "id": "dffb8545-e0e1-407a-a170-9267c339dbaa",
   "metadata": {},
   "outputs": [
    {
     "name": "stdout",
     "output_type": "stream",
     "text": [
      "Statevector([ 0.70710678+0.j, -0.70710678+0.j],\n",
      "            dims=(2,))\n"
     ]
    }
   ],
   "source": [
    "state_vector = Statevector.from_label('-')\n",
    "state_vector = state_vector.evolve(circuit)\n",
    "print(state_vector)"
   ]
  },
  {
   "cell_type": "markdown",
   "id": "69f1dbec-2aa3-47cf-aeed-e6281d841a76",
   "metadata": {},
   "source": [
    "Measures:"
   ]
  },
  {
   "cell_type": "code",
   "execution_count": 45,
   "id": "78b035de-cf26-4328-92b4-e42afc4c934f",
   "metadata": {},
   "outputs": [
    {
     "data": {
      "text/plain": [
       "<qiskit.circuit.instructionset.InstructionSet at 0x1daff6abf10>"
      ]
     },
     "execution_count": 45,
     "metadata": {},
     "output_type": "execute_result"
    }
   ],
   "source": [
    "# Create a quantum circuit with 1 quantum bit and 1 classical bit\n",
    "qc = QuantumCircuit(1, 1)\n",
    "# Apply a Hadamard gate to put the qubit in the |+> state\n",
    "#qc.h(0)\n",
    "qc.initialize([1,0], 0, 1)\n",
    "# Measure the qubit and store the result in the classical bit\n",
    "qc.measure(0, 0)"
   ]
  },
  {
   "cell_type": "code",
   "execution_count": 47,
   "id": "1533560e-36f5-4493-9278-8063dea3f391",
   "metadata": {},
   "outputs": [],
   "source": [
    " # For local simulation\n",
    "simulator = Aer.get_backend('qasm_simulator')\n",
    "\n",
    "# Transpile and run the circuit\n",
    "shots = 2**15\n",
    "t_qc = transpile(qc, simulator)\n",
    "job = simulator.run(t_qc, shots=shots)"
   ]
  },
  {
   "cell_type": "code",
   "execution_count": 49,
   "id": "643fa165-be1f-49dd-b200-72138011e0c9",
   "metadata": {},
   "outputs": [
    {
     "name": "stdout",
     "output_type": "stream",
     "text": [
      "{'0': 32768}\n"
     ]
    }
   ],
   "source": [
    "result = job.result()\n",
    "counts = result.get_counts()\n",
    "print(counts)"
   ]
  },
  {
   "cell_type": "code",
   "execution_count": null,
   "id": "1da28770-19d2-48b8-bf35-bbe353889e8f",
   "metadata": {},
   "outputs": [],
   "source": []
  }
 ],
 "metadata": {
  "kernelspec": {
   "display_name": "Python [conda env:base] *",
   "language": "python",
   "name": "conda-base-py"
  },
  "language_info": {
   "codemirror_mode": {
    "name": "ipython",
    "version": 3
   },
   "file_extension": ".py",
   "mimetype": "text/x-python",
   "name": "python",
   "nbconvert_exporter": "python",
   "pygments_lexer": "ipython3",
   "version": "3.12.7"
  }
 },
 "nbformat": 4,
 "nbformat_minor": 5
}
