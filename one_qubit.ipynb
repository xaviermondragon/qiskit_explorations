{
 "cells": [
  {
   "cell_type": "markdown",
   "id": "afb5f27d-f8a6-4f19-8fb2-99eb5a6497a5",
   "metadata": {},
   "source": [
    "# First explorations with one Qubit"
   ]
  },
  {
   "cell_type": "code",
   "execution_count": 2,
   "id": "e645996d-61cc-44bc-8f2c-cdce74f45f39",
   "metadata": {},
   "outputs": [],
   "source": [
    "from qiskit import QuantumCircuit, transpile\n",
    "from qiskit.quantum_info import Statevector\n",
    "from qiskit_aer import Aer\n",
    "from math import sqrt"
   ]
  },
  {
   "cell_type": "markdown",
   "id": "e68e6c8d-0721-4601-957c-e85b6b9c5596",
   "metadata": {},
   "source": [
    "## Hello Quantum World (Preparing a one Qubit System with an initial state)\n",
    "We first instatiate a quantum circuit with only one qubit:"
   ]
  },
  {
   "cell_type": "code",
   "execution_count": 4,
   "id": "6bec14d0-093e-49ba-908b-1d70ba031f24",
   "metadata": {},
   "outputs": [],
   "source": [
    "circuit = QuantumCircuit(1) # The parameter 1 indicates we are dealing with a one-qubit system"
   ]
  },
  {
   "cell_type": "markdown",
   "id": "02444112-f450-4465-9b04-ed50dbd9f7da",
   "metadata": {},
   "source": [
    "We now prepare the Qubit with the state vectors from the computaional basis in C2 (ket_0 and ket_1) and print the result:"
   ]
  },
  {
   "cell_type": "code",
   "execution_count": 6,
   "id": "79c7f4c2-b9db-4f97-b646-f9c2363aa29e",
   "metadata": {},
   "outputs": [
    {
     "name": "stdout",
     "output_type": "stream",
     "text": [
      "Qubit initialized with the state: Statevector([1.+0.j, 0.+0.j],\n",
      "            dims=(2,))\n",
      "Qubit initialized with the state: Statevector([0.+0.j, 1.+0.j],\n",
      "            dims=(2,))\n"
     ]
    }
   ],
   "source": [
    "for base_vector in ['0', '1']:\n",
    "    state_vector = Statevector.from_label(base_vector)\n",
    "    state_vector = state_vector.evolve(circuit)\n",
    "    print(f'Qubit initialized with the state:', state_vector)"
   ]
  },
  {
   "cell_type": "markdown",
   "id": "3cdcefcc-34b1-4d6b-99ad-33d32cb13e1e",
   "metadata": {},
   "source": [
    "We now repeat the process initialiazing the Qubit with the state vectors from the Hadamard basis in C2 (ket_+ and ket_-):"
   ]
  },
  {
   "cell_type": "code",
   "execution_count": 8,
   "id": "d84703bb-03b5-441e-ba18-d8e87a8cc38e",
   "metadata": {},
   "outputs": [
    {
     "name": "stdout",
     "output_type": "stream",
     "text": [
      "Qubit initialized with the state: Statevector([0.70710678+0.j, 0.70710678+0.j],\n",
      "            dims=(2,))\n",
      "Qubit initialized with the state: Statevector([ 0.70710678+0.j, -0.70710678+0.j],\n",
      "            dims=(2,))\n"
     ]
    }
   ],
   "source": [
    "for base_vector in ['+', '-']:\n",
    "    state_vector = Statevector.from_label(base_vector)\n",
    "    state_vector = state_vector.evolve(circuit)\n",
    "    print(f'Qubit initialized with the state:', state_vector)"
   ]
  },
  {
   "cell_type": "markdown",
   "id": "69f1dbec-2aa3-47cf-aeed-e6281d841a76",
   "metadata": {},
   "source": [
    "## Measuring a One-Qubit System\n",
    "We now instantiate a Quantum Circuit with one qubit and a classical bit to store the results of our measurements"
   ]
  },
  {
   "cell_type": "code",
   "execution_count": 10,
   "id": "b546a6fc-d43a-4583-bb0b-a577d017830c",
   "metadata": {},
   "outputs": [],
   "source": [
    "circuit = QuantumCircuit(1, 1)"
   ]
  },
  {
   "cell_type": "markdown",
   "id": "35c913a3-d99f-48e1-a2a9-6f46b335ec88",
   "metadata": {},
   "source": [
    "We prepare the Qubit with the state ket_0 = [1.+0.j, 0.+0.j]"
   ]
  },
  {
   "cell_type": "code",
   "execution_count": 12,
   "id": "de799d46-b161-409b-8248-ea1cadc413de",
   "metadata": {},
   "outputs": [
    {
     "data": {
      "text/plain": [
       "<qiskit.circuit.instructionset.InstructionSet at 0x1b67328a140>"
      ]
     },
     "execution_count": 12,
     "metadata": {},
     "output_type": "execute_result"
    }
   ],
   "source": [
    "circuit.initialize([1,0], 0, 1)"
   ]
  },
  {
   "cell_type": "markdown",
   "id": "02d18ebb-9436-47fe-a12a-5a112db0e70d",
   "metadata": {},
   "source": [
    "We will now simulate the process of measuring this qubit 10000 times and print the results obtained:"
   ]
  },
  {
   "cell_type": "code",
   "execution_count": 14,
   "id": "170e9824-de32-4612-90bb-c4556f9de800",
   "metadata": {},
   "outputs": [
    {
     "name": "stdout",
     "output_type": "stream",
     "text": [
      "{'0': 10000}\n"
     ]
    }
   ],
   "source": [
    "# Measure the qubit and store the result in the classical bit\n",
    "circuit.measure(0, 0)\n",
    " # For local simulation\n",
    "simulator = Aer.get_backend('qasm_simulator')\n",
    "# Transpile and run the circuit\n",
    "shots = 10000\n",
    "t_qc = transpile(circuit, simulator)\n",
    "job = simulator.run(t_qc, shots=shots)\n",
    "result = job.result()\n",
    "counts = result.get_counts()\n",
    "print(counts)"
   ]
  },
  {
   "cell_type": "markdown",
   "id": "8cfa8322-cfbb-431e-8f31-a8cf44ae0220",
   "metadata": {},
   "source": [
    "What happens if we repeat the process, this time preparing the Qubit with the sate ket_+ = 1/sqrt(2)(ket_0 + ket_1)?"
   ]
  },
  {
   "cell_type": "code",
   "execution_count": 16,
   "id": "f1002c16-1d67-4a25-9d25-deb58d9222ad",
   "metadata": {},
   "outputs": [
    {
     "name": "stdout",
     "output_type": "stream",
     "text": [
      "{'1': 4963, '0': 5037}\n"
     ]
    }
   ],
   "source": [
    "circuit.initialize([1/sqrt(2), 1/sqrt(2)], 0, 1)\n",
    "# Measure the qubit and store the result in the classical bit\n",
    "circuit.measure(0, 0)\n",
    " # For local simulation\n",
    "simulator = Aer.get_backend('qasm_simulator')\n",
    "# Transpile and run the circuit\n",
    "shots = 10000\n",
    "t_qc = transpile(circuit, simulator)\n",
    "job = simulator.run(t_qc, shots=shots)\n",
    "result = job.result()\n",
    "counts = result.get_counts()\n",
    "print(counts)"
   ]
  },
  {
   "cell_type": "code",
   "execution_count": null,
   "id": "4f640d1e-f4ed-49e5-9cb6-5ec5715ae574",
   "metadata": {},
   "outputs": [],
   "source": []
  }
 ],
 "metadata": {
  "kernelspec": {
   "display_name": "Python [conda env:base] *",
   "language": "python",
   "name": "conda-base-py"
  },
  "language_info": {
   "codemirror_mode": {
    "name": "ipython",
    "version": 3
   },
   "file_extension": ".py",
   "mimetype": "text/x-python",
   "name": "python",
   "nbconvert_exporter": "python",
   "pygments_lexer": "ipython3",
   "version": "3.12.7"
  }
 },
 "nbformat": 4,
 "nbformat_minor": 5
}
